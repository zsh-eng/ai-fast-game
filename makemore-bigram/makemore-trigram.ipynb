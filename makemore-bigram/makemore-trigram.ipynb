{
 "cells": [
  {
   "cell_type": "code",
   "execution_count": 133,
   "metadata": {},
   "outputs": [],
   "source": [
    "# convert stoi and itos\n",
    "NUM_CLASSES = 27\n",
    "\n",
    "stoi = {}\n",
    "itos = [None] * NUM_CLASSES\n",
    "\n",
    "for i, s in enumerate('abcdefghijklmnopqrstuvwxyz'):\n",
    "    itos[i+1] = s\n",
    "    stoi[s] = i+1\n",
    "\n",
    "itos[0] = '.'\n",
    "stoi['.'] = 0"
   ]
  },
  {
   "cell_type": "code",
   "execution_count": 134,
   "metadata": {},
   "outputs": [],
   "source": [
    "# read the words\n",
    "words = open('../data/names.txt', 'r').read().splitlines()"
   ]
  },
  {
   "cell_type": "code",
   "execution_count": 135,
   "metadata": {},
   "outputs": [
    {
     "data": {
      "text/plain": [
       "32033"
      ]
     },
     "execution_count": 135,
     "metadata": {},
     "output_type": "execute_result"
    }
   ],
   "source": [
    "len(words)"
   ]
  },
  {
   "cell_type": "code",
   "execution_count": 136,
   "metadata": {},
   "outputs": [
    {
     "name": "stdout",
     "output_type": "stream",
     "text": [
      "Using MPS device\n"
     ]
    }
   ],
   "source": [
    "import torch\n",
    "import torch.nn.functional as F\n",
    "# Check if MPS is available\n",
    "if torch.backends.mps.is_available():\n",
    "    device = torch.device(\"mps\")\n",
    "    print(\"Using MPS device\")\n",
    "else:\n",
    "    device = torch.device(\"cpu\")\n",
    "    print(\"MPS device not found, using CPU\")"
   ]
  },
  {
   "cell_type": "code",
   "execution_count": 137,
   "metadata": {},
   "outputs": [
    {
     "data": {
      "text/plain": [
       "260179"
      ]
     },
     "execution_count": 137,
     "metadata": {},
     "output_type": "execute_result"
    }
   ],
   "source": [
    "# split into the training examples\n",
    "xs, ys = [], []\n",
    "\n",
    "for word in words:\n",
    "    chs =  ['.', '.'] + list(word) + ['.', '.']\n",
    "    for ch1, ch2, ch3 in zip(chs, chs[1:], chs[2:]):\n",
    "        ix1 = stoi[ch1]\n",
    "        ix2 = stoi[ch2]\n",
    "        ix3 = stoi[ch3]\n",
    "\n",
    "        combined_idx = ix1 * NUM_CLASSES + ix2\n",
    "        xs.append(combined_idx)\n",
    "        ys.append(ix3)\n",
    "    \n",
    "xs = torch.tensor(xs, device=device)\n",
    "ys = torch.tensor(ys, device=device)\n",
    "n = len(ys)\n",
    "n"
   ]
  },
  {
   "cell_type": "code",
   "execution_count": 138,
   "metadata": {},
   "outputs": [],
   "source": [
    "# initialise our weights and generator\n",
    "g = torch.Generator(device=device).manual_seed(1)\n",
    "SIZE = NUM_CLASSES**2\n",
    "W = torch.randn(SIZE, NUM_CLASSES, generator=g, requires_grad=True, device=device)"
   ]
  },
  {
   "cell_type": "code",
   "execution_count": 139,
   "metadata": {},
   "outputs": [
    {
     "name": "stdout",
     "output_type": "stream",
     "text": [
      "loss 3.9376444816589355\n",
      "loss 3.7200145721435547\n",
      "loss 3.5653035640716553\n",
      "loss 3.4320993423461914\n",
      "loss 3.325392484664917\n",
      "loss 3.24168062210083\n",
      "loss 3.172454595565796\n",
      "loss 3.11285400390625\n",
      "loss 3.0606515407562256\n",
      "loss 3.0143988132476807\n",
      "loss 2.9730350971221924\n",
      "loss 2.9357802867889404\n",
      "loss 2.902039051055908\n",
      "loss 2.871333360671997\n",
      "loss 2.8432631492614746\n",
      "loss 2.817483901977539\n",
      "loss 2.793699026107788\n",
      "loss 2.771648645401001\n",
      "loss 2.7511119842529297\n",
      "loss 2.731902599334717\n",
      "loss 2.7138636112213135\n",
      "loss 2.6968650817871094\n",
      "loss 2.680799722671509\n",
      "loss 2.6655774116516113\n",
      "loss 2.651122808456421\n",
      "loss 2.637371063232422\n",
      "loss 2.624267339706421\n",
      "loss 2.611762285232544\n",
      "loss 2.599813222885132\n",
      "loss 2.588380813598633\n",
      "loss 2.5774307250976562\n",
      "loss 2.566930055618286\n",
      "loss 2.556849479675293\n",
      "loss 2.5471620559692383\n",
      "loss 2.537842273712158\n",
      "loss 2.5288665294647217\n",
      "loss 2.5202136039733887\n",
      "loss 2.5118627548217773\n",
      "loss 2.503796339035034\n",
      "loss 2.495997190475464\n",
      "loss 2.4884493350982666\n",
      "loss 2.48113751411438\n",
      "loss 2.4740498065948486\n",
      "loss 2.467172861099243\n",
      "loss 2.460495710372925\n",
      "loss 2.454007625579834\n",
      "loss 2.447699546813965\n",
      "loss 2.4415624141693115\n",
      "loss 2.4355881214141846\n",
      "loss 2.4297685623168945\n",
      "loss 2.4240972995758057\n",
      "loss 2.4185681343078613\n",
      "loss 2.413174629211426\n",
      "loss 2.4079110622406006\n",
      "loss 2.4027726650238037\n",
      "loss 2.397753953933716\n",
      "loss 2.392850875854492\n",
      "loss 2.3880584239959717\n",
      "loss 2.383373498916626\n",
      "loss 2.378791332244873\n",
      "loss 2.3743088245391846\n",
      "loss 2.369922637939453\n",
      "loss 2.365629196166992\n",
      "loss 2.3614256381988525\n",
      "loss 2.357308864593506\n",
      "loss 2.353276252746582\n",
      "loss 2.349324941635132\n",
      "loss 2.3454530239105225\n",
      "loss 2.3416571617126465\n",
      "loss 2.3379359245300293\n",
      "loss 2.3342862129211426\n",
      "loss 2.330706834793091\n",
      "loss 2.3271944522857666\n",
      "loss 2.3237485885620117\n",
      "loss 2.320366382598877\n",
      "loss 2.3170464038848877\n",
      "loss 2.3137869834899902\n",
      "loss 2.3105859756469727\n",
      "loss 2.3074426651000977\n",
      "loss 2.304354429244995\n",
      "loss 2.3013205528259277\n",
      "loss 2.2983391284942627\n",
      "loss 2.2954089641571045\n",
      "loss 2.2925288677215576\n",
      "loss 2.2896969318389893\n",
      "loss 2.2869129180908203\n",
      "loss 2.284174680709839\n",
      "loss 2.2814815044403076\n",
      "loss 2.278832197189331\n",
      "loss 2.2762255668640137\n",
      "loss 2.273660659790039\n",
      "loss 2.271136522293091\n",
      "loss 2.2686514854431152\n",
      "loss 2.2662055492401123\n",
      "loss 2.2637975215911865\n",
      "loss 2.2614262104034424\n",
      "loss 2.2590909004211426\n",
      "loss 2.2567906379699707\n",
      "loss 2.2545249462127686\n",
      "loss 2.2522923946380615\n"
     ]
    }
   ],
   "source": [
    "# train our model on the training examples\n",
    "for k in range(100):\n",
    "    # forward pass\n",
    "    xenc = F.one_hot(xs, num_classes=SIZE).float()\n",
    "    logits = xenc @ W\n",
    "    counts = logits.exp()\n",
    "    probs = counts / counts.sum(1, keepdim=True)\n",
    "\n",
    "    loss = -probs[torch.arange(n), ys].log().mean() + 0.01 * (W**2).mean()\n",
    "\n",
    "    W.grad = None\n",
    "    loss.backward()\n",
    "    print('loss', loss.item())\n",
    "\n",
    "    W.data += -50 * W.grad\n"
   ]
  },
  {
   "cell_type": "code",
   "execution_count": 165,
   "metadata": {},
   "outputs": [
    {
     "name": "stdout",
     "output_type": "stream",
     "text": [
      "ren\n",
      "ymarvomcqnhf\n",
      "mellvqdan\n",
      "joriana\n",
      "aly\n"
     ]
    }
   ],
   "source": [
    "# prediction on inputs\n",
    "for i in range(5):\n",
    "    out = []\n",
    "    # start off with the special character\n",
    "    ix1 = 0\n",
    "    ix2 = 0 \n",
    "    while True:\n",
    "        # continuously sample from our neural network\n",
    "        combined_idx = NUM_CLASSES * ix1 + ix2\n",
    "\n",
    "        xenc = F.one_hot(torch.tensor([combined_idx], device=device), num_classes=SIZE).float()\n",
    "        logits = xenc @ W\n",
    "        counts = logits.exp()\n",
    "        probs = counts / counts.sum(1, keepdims=True)\n",
    "\n",
    "        ix = torch.multinomial(probs, num_samples=1, generator=g).item()\n",
    "        if ix == 0:\n",
    "            break\n",
    "\n",
    "        out.append(itos[ix])\n",
    "        ix1, ix2 = ix2, ix\n",
    "    \n",
    "    print(\"\".join(out))\n"
   ]
  }
 ],
 "metadata": {
  "kernelspec": {
   "display_name": ".venv",
   "language": "python",
   "name": "python3"
  },
  "language_info": {
   "codemirror_mode": {
    "name": "ipython",
    "version": 3
   },
   "file_extension": ".py",
   "mimetype": "text/x-python",
   "name": "python",
   "nbconvert_exporter": "python",
   "pygments_lexer": "ipython3",
   "version": "3.12.8"
  }
 },
 "nbformat": 4,
 "nbformat_minor": 2
}
