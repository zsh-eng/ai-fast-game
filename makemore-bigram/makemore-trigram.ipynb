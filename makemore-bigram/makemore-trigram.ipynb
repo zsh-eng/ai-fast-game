{
 "cells": [
  {
   "cell_type": "code",
   "execution_count": 22,
   "metadata": {},
   "outputs": [],
   "source": [
    "# convert stoi and itos\n",
    "NUM_CLASSES = 27\n",
    "\n",
    "stoi = {}\n",
    "itos = [None] * NUM_CLASSES\n",
    "\n",
    "for i, s in enumerate('abcdefghijklmnopqrstuvwxyz'):\n",
    "    itos[i+1] = s\n",
    "    stoi[s] = i+1\n",
    "\n",
    "itos[0] = '.'\n",
    "stoi['.'] = 0"
   ]
  },
  {
   "cell_type": "code",
   "execution_count": 23,
   "metadata": {},
   "outputs": [],
   "source": [
    "# read the words\n",
    "words = open('../data/names.txt', 'r').read().splitlines()"
   ]
  },
  {
   "cell_type": "code",
   "execution_count": 24,
   "metadata": {},
   "outputs": [
    {
     "data": {
      "text/plain": [
       "32033"
      ]
     },
     "execution_count": 24,
     "metadata": {},
     "output_type": "execute_result"
    }
   ],
   "source": [
    "len(words)"
   ]
  },
  {
   "cell_type": "code",
   "execution_count": 25,
   "metadata": {},
   "outputs": [],
   "source": [
    "import torch\n",
    "import torch.nn.functional as F"
   ]
  },
  {
   "cell_type": "code",
   "execution_count": 26,
   "metadata": {},
   "outputs": [
    {
     "data": {
      "text/plain": [
       "228146"
      ]
     },
     "execution_count": 26,
     "metadata": {},
     "output_type": "execute_result"
    }
   ],
   "source": [
    "# split into the training examples\n",
    "xs, ys = [], []\n",
    "\n",
    "for word in words:\n",
    "    chs =  ['.'] + list(word) + ['.']\n",
    "    for ch1, ch2 in zip(chs, chs[1:]):\n",
    "        ix1 = stoi[ch1]\n",
    "        ix2 = stoi[ch2]\n",
    "\n",
    "        xs.append(ix1)\n",
    "        ys.append(ix2)\n",
    "    \n",
    "xs = torch.tensor(xs)\n",
    "ys = torch.tensor(ys)\n",
    "n = len(xs)\n",
    "n"
   ]
  },
  {
   "cell_type": "code",
   "execution_count": 27,
   "metadata": {},
   "outputs": [],
   "source": [
    "# initialise our weights and generator\n",
    "g = torch.Generator().manual_seed(1)\n",
    "W = torch.randn(27, 27, generator=g, requires_grad=True)"
   ]
  },
  {
   "cell_type": "code",
   "execution_count": 30,
   "metadata": {},
   "outputs": [
    {
     "name": "stdout",
     "output_type": "stream",
     "text": [
      "loss 2.5892045497894287\n",
      "loss 2.5879828929901123\n",
      "loss 2.5867843627929688\n",
      "loss 2.585608720779419\n",
      "loss 2.5844547748565674\n",
      "loss 2.583322286605835\n",
      "loss 2.5822107791900635\n",
      "loss 2.581120014190674\n",
      "loss 2.5800490379333496\n",
      "loss 2.5789976119995117\n",
      "loss 2.5779645442962646\n",
      "loss 2.5769500732421875\n",
      "loss 2.575953245162964\n",
      "loss 2.574974298477173\n",
      "loss 2.574012041091919\n",
      "loss 2.573066473007202\n",
      "loss 2.5721371173858643\n",
      "loss 2.5712239742279053\n",
      "loss 2.5703256130218506\n",
      "loss 2.5694427490234375\n",
      "loss 2.568574905395508\n",
      "loss 2.567721128463745\n",
      "loss 2.5668811798095703\n",
      "loss 2.5660550594329834\n",
      "loss 2.5652425289154053\n",
      "loss 2.5644426345825195\n",
      "loss 2.5636560916900635\n",
      "loss 2.5628817081451416\n",
      "loss 2.562119722366333\n",
      "loss 2.5613694190979004\n",
      "loss 2.5606307983398438\n",
      "loss 2.559903621673584\n",
      "loss 2.559187412261963\n",
      "loss 2.5584824085235596\n",
      "loss 2.5577878952026367\n",
      "loss 2.557103395462036\n",
      "loss 2.556429624557495\n",
      "loss 2.5557656288146973\n",
      "loss 2.5551114082336426\n",
      "loss 2.554466962814331\n",
      "loss 2.5538313388824463\n",
      "loss 2.5532050132751465\n",
      "loss 2.5525879859924316\n",
      "loss 2.5519795417785645\n",
      "loss 2.5513789653778076\n",
      "loss 2.550787925720215\n",
      "loss 2.550204277038574\n",
      "loss 2.549628496170044\n",
      "loss 2.5490612983703613\n",
      "loss 2.5485012531280518\n"
     ]
    }
   ],
   "source": [
    "# train our model on the training examples\n",
    "for k in range(50):\n",
    "    # forward pass\n",
    "    xenc = F.one_hot(xs, num_classes=27).float()\n",
    "    logits = xenc @ W\n",
    "    counts = logits.exp()\n",
    "    probs = counts / counts.sum(1, keepdim=True)\n",
    "\n",
    "    loss = -probs[torch.arange(n), ys].log().mean() + 0.01 * (W**2).mean()\n",
    "\n",
    "    W.grad = None\n",
    "    loss.backward()\n",
    "    print('loss', loss.item())\n",
    "\n",
    "    W.data += -10 * W.grad\n"
   ]
  },
  {
   "cell_type": "code",
   "execution_count": 76,
   "metadata": {},
   "outputs": [
    {
     "name": "stdout",
     "output_type": "stream",
     "text": [
      "jirbe\n",
      "kwxbris\n",
      "cavn\n",
      "gdwishon\n",
      "esive\n"
     ]
    }
   ],
   "source": [
    "# prediction on inputs\n",
    "for i in range(5):\n",
    "    out = []\n",
    "    # start off with the special character\n",
    "    ix = 0 \n",
    "    while True:\n",
    "        # continuously sample from our neural network\n",
    "        xenc = F.one_hot(torch.tensor([ix]), num_classes=27).float()\n",
    "        logits = xenc @ W\n",
    "        counts = logits.exp()\n",
    "        probs = counts / counts.sum(1, keepdims=True)\n",
    "\n",
    "        ix = torch.multinomial(probs, num_samples=1, generator=g).item()\n",
    "        if ix == 0:\n",
    "            break\n",
    "\n",
    "        out.append(itos[ix])\n",
    "    \n",
    "    print(\"\".join(out))\n"
   ]
  }
 ],
 "metadata": {
  "kernelspec": {
   "display_name": ".venv",
   "language": "python",
   "name": "python3"
  },
  "language_info": {
   "codemirror_mode": {
    "name": "ipython",
    "version": 3
   },
   "file_extension": ".py",
   "mimetype": "text/x-python",
   "name": "python",
   "nbconvert_exporter": "python",
   "pygments_lexer": "ipython3",
   "version": "3.12.8"
  }
 },
 "nbformat": 4,
 "nbformat_minor": 2
}
